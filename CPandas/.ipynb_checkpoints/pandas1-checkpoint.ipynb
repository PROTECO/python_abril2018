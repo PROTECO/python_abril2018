{
 "cells": [
  {
   "cell_type": "code",
   "execution_count": 1,
   "metadata": {},
   "outputs": [],
   "source": [
    "import numpy as np\n",
    "import pandas as pd\n",
    "import matplotlib.pyplot as plt\n",
    "%matplotlib inline"
   ]
  },
  {
   "cell_type": "code",
   "execution_count": 3,
   "metadata": {},
   "outputs": [],
   "source": [
    "datos_archivo = 'data/nyc_data.csv'\n",
    "# datos recopilados por taxis en Manhattan"
   ]
  },
  {
   "cell_type": "code",
   "execution_count": 4,
   "metadata": {},
   "outputs": [],
   "source": [
    "datos = pd.read_csv(datos_archivo,parse_dates=['pickup_datetime',\n",
    "                                              'dropoff_datetime'])\n",
    "# datos es un objeto DataFrame\n",
    "# DataFrame es una tabla que contiene:\n",
    "# filas -> observaciones o muestras\n",
    "# columnas -> atributos o variables\n",
    "\n",
    "# Los DataFrame pueden contener texto, numeros, fechas y otros tipos"
   ]
  },
  {
   "cell_type": "code",
   "execution_count": 5,
   "metadata": {},
   "outputs": [
    {
     "data": {
      "text/html": [
       "<div>\n",
       "<style scoped>\n",
       "    .dataframe tbody tr th:only-of-type {\n",
       "        vertical-align: middle;\n",
       "    }\n",
       "\n",
       "    .dataframe tbody tr th {\n",
       "        vertical-align: top;\n",
       "    }\n",
       "\n",
       "    .dataframe thead th {\n",
       "        text-align: right;\n",
       "    }\n",
       "</style>\n",
       "<table border=\"1\" class=\"dataframe\">\n",
       "  <thead>\n",
       "    <tr style=\"text-align: right;\">\n",
       "      <th></th>\n",
       "      <th>medallion</th>\n",
       "      <th>hack_license</th>\n",
       "      <th>vendor_id</th>\n",
       "      <th>rate_code</th>\n",
       "      <th>store_and_fwd_flag</th>\n",
       "      <th>pickup_datetime</th>\n",
       "      <th>dropoff_datetime</th>\n",
       "      <th>passenger_count</th>\n",
       "      <th>trip_time_in_secs</th>\n",
       "      <th>trip_distance</th>\n",
       "      <th>pickup_longitude</th>\n",
       "      <th>pickup_latitude</th>\n",
       "      <th>dropoff_longitude</th>\n",
       "      <th>dropoff_latitude</th>\n",
       "    </tr>\n",
       "  </thead>\n",
       "  <tbody>\n",
       "    <tr>\n",
       "      <th>0</th>\n",
       "      <td>76942C3205E17D7E7FE5A9F709D16434</td>\n",
       "      <td>25BA06A87905667AA1FE5990E33F0E2E</td>\n",
       "      <td>VTS</td>\n",
       "      <td>1</td>\n",
       "      <td>NaN</td>\n",
       "      <td>2013-01-01 00:00:00</td>\n",
       "      <td>2013-01-01 00:05:00</td>\n",
       "      <td>3</td>\n",
       "      <td>300</td>\n",
       "      <td>0.61</td>\n",
       "      <td>-73.955925</td>\n",
       "      <td>40.781887</td>\n",
       "      <td>-73.963181</td>\n",
       "      <td>40.777832</td>\n",
       "    </tr>\n",
       "    <tr>\n",
       "      <th>1</th>\n",
       "      <td>517C6B330DBB3F055D007B07512628B3</td>\n",
       "      <td>2C19FBEE1A6E05612EFE4C958C14BC7F</td>\n",
       "      <td>VTS</td>\n",
       "      <td>1</td>\n",
       "      <td>NaN</td>\n",
       "      <td>2013-01-01 00:05:00</td>\n",
       "      <td>2013-01-01 00:21:00</td>\n",
       "      <td>1</td>\n",
       "      <td>960</td>\n",
       "      <td>3.28</td>\n",
       "      <td>-74.005501</td>\n",
       "      <td>40.745735</td>\n",
       "      <td>-73.964943</td>\n",
       "      <td>40.755722</td>\n",
       "    </tr>\n",
       "    <tr>\n",
       "      <th>2</th>\n",
       "      <td>ED15611F168E41B33619C83D900FE266</td>\n",
       "      <td>754AEBD7C80DA17BA1D81D89FB6F4D1D</td>\n",
       "      <td>CMT</td>\n",
       "      <td>1</td>\n",
       "      <td>N</td>\n",
       "      <td>2013-01-01 00:05:52</td>\n",
       "      <td>2013-01-01 00:12:18</td>\n",
       "      <td>1</td>\n",
       "      <td>386</td>\n",
       "      <td>1.50</td>\n",
       "      <td>-73.969955</td>\n",
       "      <td>40.799770</td>\n",
       "      <td>-73.954567</td>\n",
       "      <td>40.787392</td>\n",
       "    </tr>\n",
       "  </tbody>\n",
       "</table>\n",
       "</div>"
      ],
      "text/plain": [
       "                          medallion                      hack_license  \\\n",
       "0  76942C3205E17D7E7FE5A9F709D16434  25BA06A87905667AA1FE5990E33F0E2E   \n",
       "1  517C6B330DBB3F055D007B07512628B3  2C19FBEE1A6E05612EFE4C958C14BC7F   \n",
       "2  ED15611F168E41B33619C83D900FE266  754AEBD7C80DA17BA1D81D89FB6F4D1D   \n",
       "\n",
       "  vendor_id  rate_code store_and_fwd_flag     pickup_datetime  \\\n",
       "0       VTS          1                NaN 2013-01-01 00:00:00   \n",
       "1       VTS          1                NaN 2013-01-01 00:05:00   \n",
       "2       CMT          1                  N 2013-01-01 00:05:52   \n",
       "\n",
       "     dropoff_datetime  passenger_count  trip_time_in_secs  trip_distance  \\\n",
       "0 2013-01-01 00:05:00                3                300           0.61   \n",
       "1 2013-01-01 00:21:00                1                960           3.28   \n",
       "2 2013-01-01 00:12:18                1                386           1.50   \n",
       "\n",
       "   pickup_longitude  pickup_latitude  dropoff_longitude  dropoff_latitude  \n",
       "0        -73.955925        40.781887         -73.963181         40.777832  \n",
       "1        -74.005501        40.745735         -73.964943         40.755722  \n",
       "2        -73.969955        40.799770         -73.954567         40.787392  "
      ]
     },
     "execution_count": 5,
     "metadata": {},
     "output_type": "execute_result"
    }
   ],
   "source": [
    "datos.head(3) #Las primeras tres filas de nuestra tabla"
   ]
  },
  {
   "cell_type": "code",
   "execution_count": 6,
   "metadata": {},
   "outputs": [
    {
     "data": {
      "text/html": [
       "<div>\n",
       "<style scoped>\n",
       "    .dataframe tbody tr th:only-of-type {\n",
       "        vertical-align: middle;\n",
       "    }\n",
       "\n",
       "    .dataframe tbody tr th {\n",
       "        vertical-align: top;\n",
       "    }\n",
       "\n",
       "    .dataframe thead th {\n",
       "        text-align: right;\n",
       "    }\n",
       "</style>\n",
       "<table border=\"1\" class=\"dataframe\">\n",
       "  <thead>\n",
       "    <tr style=\"text-align: right;\">\n",
       "      <th></th>\n",
       "      <th>medallion</th>\n",
       "      <th>hack_license</th>\n",
       "      <th>vendor_id</th>\n",
       "      <th>rate_code</th>\n",
       "      <th>store_and_fwd_flag</th>\n",
       "      <th>pickup_datetime</th>\n",
       "      <th>dropoff_datetime</th>\n",
       "      <th>passenger_count</th>\n",
       "      <th>trip_time_in_secs</th>\n",
       "      <th>trip_distance</th>\n",
       "      <th>pickup_longitude</th>\n",
       "      <th>pickup_latitude</th>\n",
       "      <th>dropoff_longitude</th>\n",
       "      <th>dropoff_latitude</th>\n",
       "    </tr>\n",
       "  </thead>\n",
       "  <tbody>\n",
       "    <tr>\n",
       "      <th>846942</th>\n",
       "      <td>D87EB3AD2ED303B3D92E37D871B2C2E9</td>\n",
       "      <td>F578F0435B49B3D7B9A7AAFC663A82CD</td>\n",
       "      <td>VTS</td>\n",
       "      <td>1</td>\n",
       "      <td>NaN</td>\n",
       "      <td>2013-12-31 23:59:00</td>\n",
       "      <td>2014-01-01 00:05:00</td>\n",
       "      <td>1</td>\n",
       "      <td>360</td>\n",
       "      <td>2.23</td>\n",
       "      <td>-73.993492</td>\n",
       "      <td>40.729347</td>\n",
       "      <td>-74.013725</td>\n",
       "      <td>40.702332</td>\n",
       "    </tr>\n",
       "    <tr>\n",
       "      <th>846943</th>\n",
       "      <td>F74743D90F84644B1FA4576F4A82A8A3</td>\n",
       "      <td>537121DB04EC62BADFA44D8F03755A64</td>\n",
       "      <td>VTS</td>\n",
       "      <td>1</td>\n",
       "      <td>NaN</td>\n",
       "      <td>2013-12-31 23:59:00</td>\n",
       "      <td>2014-01-01 00:08:00</td>\n",
       "      <td>1</td>\n",
       "      <td>540</td>\n",
       "      <td>1.76</td>\n",
       "      <td>-73.978477</td>\n",
       "      <td>40.772945</td>\n",
       "      <td>-73.963814</td>\n",
       "      <td>40.773922</td>\n",
       "    </tr>\n",
       "    <tr>\n",
       "      <th>846944</th>\n",
       "      <td>E5DCEBA68A6094576B10AFC609C61E29</td>\n",
       "      <td>735F78FA4CB06B5CB7122FF31822F68E</td>\n",
       "      <td>CMT</td>\n",
       "      <td>1</td>\n",
       "      <td>N</td>\n",
       "      <td>2013-12-31 23:59:24</td>\n",
       "      <td>2014-01-01 00:22:26</td>\n",
       "      <td>1</td>\n",
       "      <td>1381</td>\n",
       "      <td>4.50</td>\n",
       "      <td>-73.987206</td>\n",
       "      <td>40.750568</td>\n",
       "      <td>-73.970909</td>\n",
       "      <td>40.795815</td>\n",
       "    </tr>\n",
       "  </tbody>\n",
       "</table>\n",
       "</div>"
      ],
      "text/plain": [
       "                               medallion                      hack_license  \\\n",
       "846942  D87EB3AD2ED303B3D92E37D871B2C2E9  F578F0435B49B3D7B9A7AAFC663A82CD   \n",
       "846943  F74743D90F84644B1FA4576F4A82A8A3  537121DB04EC62BADFA44D8F03755A64   \n",
       "846944  E5DCEBA68A6094576B10AFC609C61E29  735F78FA4CB06B5CB7122FF31822F68E   \n",
       "\n",
       "       vendor_id  rate_code store_and_fwd_flag     pickup_datetime  \\\n",
       "846942       VTS          1                NaN 2013-12-31 23:59:00   \n",
       "846943       VTS          1                NaN 2013-12-31 23:59:00   \n",
       "846944       CMT          1                  N 2013-12-31 23:59:24   \n",
       "\n",
       "          dropoff_datetime  passenger_count  trip_time_in_secs  trip_distance  \\\n",
       "846942 2014-01-01 00:05:00                1                360           2.23   \n",
       "846943 2014-01-01 00:08:00                1                540           1.76   \n",
       "846944 2014-01-01 00:22:26                1               1381           4.50   \n",
       "\n",
       "        pickup_longitude  pickup_latitude  dropoff_longitude  dropoff_latitude  \n",
       "846942        -73.993492        40.729347         -74.013725         40.702332  \n",
       "846943        -73.978477        40.772945         -73.963814         40.773922  \n",
       "846944        -73.987206        40.750568         -73.970909         40.795815  "
      ]
     },
     "execution_count": 6,
     "metadata": {},
     "output_type": "execute_result"
    }
   ],
   "source": [
    "datos.tail(3) #Las últimas cuatro filas de nuestra tabla"
   ]
  },
  {
   "cell_type": "code",
   "execution_count": 8,
   "metadata": {},
   "outputs": [
    {
     "data": {
      "text/html": [
       "<div>\n",
       "<style scoped>\n",
       "    .dataframe tbody tr th:only-of-type {\n",
       "        vertical-align: middle;\n",
       "    }\n",
       "\n",
       "    .dataframe tbody tr th {\n",
       "        vertical-align: top;\n",
       "    }\n",
       "\n",
       "    .dataframe thead th {\n",
       "        text-align: right;\n",
       "    }\n",
       "</style>\n",
       "<table border=\"1\" class=\"dataframe\">\n",
       "  <thead>\n",
       "    <tr style=\"text-align: right;\">\n",
       "      <th></th>\n",
       "      <th>rate_code</th>\n",
       "      <th>passenger_count</th>\n",
       "      <th>trip_time_in_secs</th>\n",
       "      <th>trip_distance</th>\n",
       "      <th>pickup_longitude</th>\n",
       "      <th>pickup_latitude</th>\n",
       "      <th>dropoff_longitude</th>\n",
       "      <th>dropoff_latitude</th>\n",
       "    </tr>\n",
       "  </thead>\n",
       "  <tbody>\n",
       "    <tr>\n",
       "      <th>count</th>\n",
       "      <td>846945.000000</td>\n",
       "      <td>846945.000000</td>\n",
       "      <td>8.469450e+05</td>\n",
       "      <td>8.469450e+05</td>\n",
       "      <td>846945.000000</td>\n",
       "      <td>846945.000000</td>\n",
       "      <td>846945.000000</td>\n",
       "      <td>846945.000000</td>\n",
       "    </tr>\n",
       "    <tr>\n",
       "      <th>mean</th>\n",
       "      <td>1.026123</td>\n",
       "      <td>1.710272</td>\n",
       "      <td>8.125239e+02</td>\n",
       "      <td>9.958211e+00</td>\n",
       "      <td>-73.975155</td>\n",
       "      <td>40.750490</td>\n",
       "      <td>-73.974197</td>\n",
       "      <td>40.750967</td>\n",
       "    </tr>\n",
       "    <tr>\n",
       "      <th>std</th>\n",
       "      <td>0.223480</td>\n",
       "      <td>1.375266</td>\n",
       "      <td>1.609831e+04</td>\n",
       "      <td>6.525205e+03</td>\n",
       "      <td>0.035142</td>\n",
       "      <td>0.027224</td>\n",
       "      <td>0.033453</td>\n",
       "      <td>0.030766</td>\n",
       "    </tr>\n",
       "    <tr>\n",
       "      <th>min</th>\n",
       "      <td>0.000000</td>\n",
       "      <td>0.000000</td>\n",
       "      <td>-1.000000e+01</td>\n",
       "      <td>0.000000e+00</td>\n",
       "      <td>-74.098305</td>\n",
       "      <td>40.009911</td>\n",
       "      <td>-74.099998</td>\n",
       "      <td>40.009911</td>\n",
       "    </tr>\n",
       "    <tr>\n",
       "      <th>25%</th>\n",
       "      <td>1.000000</td>\n",
       "      <td>1.000000</td>\n",
       "      <td>3.610000e+02</td>\n",
       "      <td>1.050000e+00</td>\n",
       "      <td>-73.992371</td>\n",
       "      <td>40.736031</td>\n",
       "      <td>-73.991570</td>\n",
       "      <td>40.735207</td>\n",
       "    </tr>\n",
       "    <tr>\n",
       "      <th>50%</th>\n",
       "      <td>1.000000</td>\n",
       "      <td>1.000000</td>\n",
       "      <td>6.000000e+02</td>\n",
       "      <td>1.800000e+00</td>\n",
       "      <td>-73.982094</td>\n",
       "      <td>40.752975</td>\n",
       "      <td>-73.980614</td>\n",
       "      <td>40.753597</td>\n",
       "    </tr>\n",
       "    <tr>\n",
       "      <th>75%</th>\n",
       "      <td>1.000000</td>\n",
       "      <td>2.000000</td>\n",
       "      <td>9.600000e+02</td>\n",
       "      <td>3.200000e+00</td>\n",
       "      <td>-73.968048</td>\n",
       "      <td>40.767460</td>\n",
       "      <td>-73.965157</td>\n",
       "      <td>40.768227</td>\n",
       "    </tr>\n",
       "    <tr>\n",
       "      <th>max</th>\n",
       "      <td>6.000000</td>\n",
       "      <td>6.000000</td>\n",
       "      <td>4.294796e+06</td>\n",
       "      <td>6.005123e+06</td>\n",
       "      <td>-73.028473</td>\n",
       "      <td>40.996132</td>\n",
       "      <td>-73.027061</td>\n",
       "      <td>40.998592</td>\n",
       "    </tr>\n",
       "  </tbody>\n",
       "</table>\n",
       "</div>"
      ],
      "text/plain": [
       "           rate_code  passenger_count  trip_time_in_secs  trip_distance  \\\n",
       "count  846945.000000    846945.000000       8.469450e+05   8.469450e+05   \n",
       "mean        1.026123         1.710272       8.125239e+02   9.958211e+00   \n",
       "std         0.223480         1.375266       1.609831e+04   6.525205e+03   \n",
       "min         0.000000         0.000000      -1.000000e+01   0.000000e+00   \n",
       "25%         1.000000         1.000000       3.610000e+02   1.050000e+00   \n",
       "50%         1.000000         1.000000       6.000000e+02   1.800000e+00   \n",
       "75%         1.000000         2.000000       9.600000e+02   3.200000e+00   \n",
       "max         6.000000         6.000000       4.294796e+06   6.005123e+06   \n",
       "\n",
       "       pickup_longitude  pickup_latitude  dropoff_longitude  dropoff_latitude  \n",
       "count     846945.000000    846945.000000      846945.000000     846945.000000  \n",
       "mean         -73.975155        40.750490         -73.974197         40.750967  \n",
       "std            0.035142         0.027224           0.033453          0.030766  \n",
       "min          -74.098305        40.009911         -74.099998         40.009911  \n",
       "25%          -73.992371        40.736031         -73.991570         40.735207  \n",
       "50%          -73.982094        40.752975         -73.980614         40.753597  \n",
       "75%          -73.968048        40.767460         -73.965157         40.768227  \n",
       "max          -73.028473        40.996132         -73.027061         40.998592  "
      ]
     },
     "execution_count": 8,
     "metadata": {},
     "output_type": "execute_result"
    }
   ],
   "source": [
    "datos.describe() # datos básicos de todas las columnas"
   ]
  },
  {
   "cell_type": "code",
   "execution_count": 9,
   "metadata": {},
   "outputs": [
    {
     "data": {
      "text/plain": [
       "Index(['medallion', 'hack_license', 'vendor_id', 'rate_code',\n",
       "       'store_and_fwd_flag', 'pickup_datetime', 'dropoff_datetime',\n",
       "       'passenger_count', 'trip_time_in_secs', 'trip_distance',\n",
       "       'pickup_longitude', 'pickup_latitude', 'dropoff_longitude',\n",
       "       'dropoff_latitude'],\n",
       "      dtype='object')"
      ]
     },
     "execution_count": 9,
     "metadata": {},
     "output_type": "execute_result"
    }
   ],
   "source": [
    "datos.columns # lista de columnas"
   ]
  },
  {
   "cell_type": "code",
   "execution_count": 16,
   "metadata": {},
   "outputs": [],
   "source": [
    "p_lng = datos.pickup_longitude\n",
    "p_lat = datos.pickup_latitude\n",
    "d_lng = datos.dropoff_longitude\n",
    "d_lat = datos.dropoff_latitude\n",
    "# datos.nombre de columna -> nos da solo esa columna\n",
    "# tambien puede ser datos['nombre de columna']"
   ]
  },
  {
   "cell_type": "code",
   "execution_count": 17,
   "metadata": {},
   "outputs": [
    {
     "data": {
      "text/plain": [
       "0         40.781887\n",
       "1         40.745735\n",
       "2         40.799770\n",
       "3         40.755081\n",
       "4         40.773716\n",
       "5         40.768978\n",
       "6         40.752197\n",
       "7         40.730137\n",
       "8         40.738644\n",
       "9         40.740540\n",
       "10        40.756424\n",
       "11        40.713177\n",
       "12        40.742928\n",
       "13        40.764706\n",
       "14        40.723415\n",
       "15        40.768929\n",
       "16        40.751724\n",
       "17        40.749283\n",
       "18        40.741100\n",
       "19        40.763973\n",
       "20        40.753067\n",
       "21        40.765720\n",
       "22        40.733608\n",
       "23        40.740002\n",
       "24        40.762859\n",
       "25        40.755161\n",
       "26        40.765041\n",
       "27        40.723495\n",
       "28        40.736504\n",
       "29        40.778492\n",
       "            ...    \n",
       "846915    40.721607\n",
       "846916    40.731232\n",
       "846917    40.773766\n",
       "846918    40.715004\n",
       "846919    40.766407\n",
       "846920    40.777802\n",
       "846921    40.738510\n",
       "846922    40.736427\n",
       "846923    40.779636\n",
       "846924    40.719723\n",
       "846925    40.752960\n",
       "846926    40.752167\n",
       "846927    40.673527\n",
       "846928    40.750988\n",
       "846929    40.786549\n",
       "846930    40.780659\n",
       "846931    40.719746\n",
       "846932    40.741180\n",
       "846933    40.796059\n",
       "846934    40.722553\n",
       "846935    40.776558\n",
       "846936    40.806778\n",
       "846937    40.748402\n",
       "846938    40.742863\n",
       "846939    40.795177\n",
       "846940    40.750126\n",
       "846941    40.769096\n",
       "846942    40.729347\n",
       "846943    40.772945\n",
       "846944    40.750568\n",
       "Name: pickup_latitude, Length: 846945, dtype: float64"
      ]
     },
     "execution_count": 17,
     "metadata": {},
     "output_type": "execute_result"
    }
   ],
   "source": [
    "p_lat"
   ]
  },
  {
   "cell_type": "code",
   "execution_count": 18,
   "metadata": {},
   "outputs": [],
   "source": [
    "# Debemos crear una función para pasar los datos de latitud y longitud\n",
    "# a coordenadas\n",
    "\n",
    "def lat_lng_a_pixeles(lat,lng):\n",
    "    lat_rad = lat * np.pi / 180\n",
    "    lat_rad = np.log(np.tan((lat_rad + np.pi / 2.0)/2.0))\n",
    "    x = 100 * (lng + 180) / 360\n",
    "    y = 100 * (lat_rad - np.pi) / (2 * np.pi)\n",
    "    return x,y"
   ]
  },
  {
   "cell_type": "code",
   "execution_count": 19,
   "metadata": {},
   "outputs": [],
   "source": [
    "px, py = lat_lng_a_pixeles(p_lat,p_lng)"
   ]
  },
  {
   "cell_type": "code",
   "execution_count": 20,
   "metadata": {},
   "outputs": [
    {
     "data": {
      "text/plain": [
       "0         29.456688\n",
       "1         29.442916\n",
       "2         29.452790\n",
       "3         29.446824\n",
       "4         29.453826\n",
       "5         29.456878\n",
       "6         29.448450\n",
       "7         29.444608\n",
       "8         29.446617\n",
       "9         29.442624\n",
       "10        29.452091\n",
       "11        29.442427\n",
       "12        29.448725\n",
       "13        29.447780\n",
       "14        29.442747\n",
       "15        29.447585\n",
       "16        29.449418\n",
       "17        29.450883\n",
       "18        29.450368\n",
       "19        29.448240\n",
       "20        29.452801\n",
       "21        29.457078\n",
       "22        29.443624\n",
       "23        29.442588\n",
       "24        29.451618\n",
       "25        29.450016\n",
       "26        29.452508\n",
       "27        29.447700\n",
       "28        29.445152\n",
       "29        29.449582\n",
       "            ...    \n",
       "846915    29.441475\n",
       "846916    29.449251\n",
       "846917    29.450620\n",
       "846918    29.439949\n",
       "846919    29.457862\n",
       "846920    29.457783\n",
       "846921    29.447821\n",
       "846922    29.448643\n",
       "846923    29.457412\n",
       "846924    29.447859\n",
       "846925    29.452784\n",
       "846926    29.448484\n",
       "846927    29.449264\n",
       "846928    29.445428\n",
       "846929    29.452121\n",
       "846930    29.449961\n",
       "846931    29.447990\n",
       "846932    29.442855\n",
       "846933    29.452587\n",
       "846934    29.446346\n",
       "846935    29.457531\n",
       "846936    29.464671\n",
       "846937    29.451497\n",
       "846938    29.450779\n",
       "846939    29.451811\n",
       "846940    29.446651\n",
       "846941    29.445847\n",
       "846942    29.446252\n",
       "846943    29.450423\n",
       "846944    29.447998\n",
       "Name: pickup_longitude, Length: 846945, dtype: float64"
      ]
     },
     "execution_count": 20,
     "metadata": {},
     "output_type": "execute_result"
    }
   ],
   "source": [
    "px"
   ]
  },
  {
   "cell_type": "code",
   "execution_count": 21,
   "metadata": {},
   "outputs": [
    {
     "data": {
      "text/plain": [
       "<matplotlib.collections.PathCollection at 0x7f60e4810eb8>"
      ]
     },
     "execution_count": 21,
     "metadata": {},
     "output_type": "execute_result"
    },
    {
     "data": {
      "image/png": "[encoded data removed]",
      "text/plain": [
       "<Figure size 432x288 with 1 Axes>"
      ]
     },
     "metadata": {},
     "output_type": "display_data"
    }
   ],
   "source": [
    "plt.scatter(px,py)"
   ]
  },
  {
   "cell_type": "code",
   "execution_count": 25,
   "metadata": {},
   "outputs": [
    {
     "data": {
      "text/plain": [
       "(29.4, 29.55, -37.63, -37.54)"
      ]
     },
     "execution_count": 25,
     "metadata": {},
     "output_type": "execute_result"
    },
    {
     "data": {
      "image/png": "[encoded data removed]",
      "text/plain": [
       "<Figure size 576x432 with 1 Axes>"
      ]
     },
     "metadata": {},
     "output_type": "display_data"
    }
   ],
   "source": [
    "plt.figure(figsize=(8,6)) # podemos especificar tamaño de figura\n",
    "plt.scatter(px, py, s=.1, alpha=.03)\n",
    "# s = tamaño de puntos, alpha = opacidad\n",
    "plt.axis('equal')\n",
    "plt.xlim(29.40,29.55)\n",
    "plt.ylim(-37.63,-37.54)\n",
    "plt.axis('off')"
   ]
  },
  {
   "cell_type": "code",
   "execution_count": 29,
   "metadata": {},
   "outputs": [
    {
     "data": {
      "text/plain": [
       "(846945, 29.417137499999995, 29.71431305555556)"
      ]
     },
     "execution_count": 29,
     "metadata": {},
     "output_type": "execute_result"
    }
   ],
   "source": [
    "px.count(),px.min(),px.max()\n",
    "# cantidad, minimo, maximo"
   ]
  },
  {
   "cell_type": "code",
   "execution_count": 30,
   "metadata": {},
   "outputs": [
    {
     "data": {
      "text/plain": [
       "(29.451345807768575, 29.449418333333337, 0.009761694274451269)"
      ]
     },
     "execution_count": 30,
     "metadata": {},
     "output_type": "execute_result"
    }
   ],
   "source": [
    "px.mean(), px.median(), px.std()\n",
    "# media, mediana, desv estandar"
   ]
  },
  {
   "cell_type": "code",
   "execution_count": 34,
   "metadata": {},
   "outputs": [
    {
     "data": {
      "text/plain": [
       "0          0.61\n",
       "1          3.28\n",
       "2          1.50\n",
       "3          0.00\n",
       "4          1.31\n",
       "5          5.81\n",
       "6          1.25\n",
       "7          1.80\n",
       "8          1.79\n",
       "9          1.70\n",
       "10         4.40\n",
       "11         5.70\n",
       "12         5.67\n",
       "13         7.10\n",
       "14         3.80\n",
       "15         3.50\n",
       "16         0.60\n",
       "17         2.84\n",
       "18         1.09\n",
       "19         6.60\n",
       "20         2.50\n",
       "21         2.12\n",
       "22         5.46\n",
       "23         0.60\n",
       "24         2.70\n",
       "25         3.88\n",
       "26         2.28\n",
       "27         3.90\n",
       "28         1.60\n",
       "29         4.52\n",
       "          ...  \n",
       "846915     2.14\n",
       "846916     0.80\n",
       "846917     6.44\n",
       "846918     4.10\n",
       "846919     1.08\n",
       "846920     3.50\n",
       "846921     1.51\n",
       "846922     0.64\n",
       "846923    16.05\n",
       "846924     0.30\n",
       "846925     2.00\n",
       "846926     0.66\n",
       "846927     0.64\n",
       "846928     0.43\n",
       "846929     0.10\n",
       "846930     0.60\n",
       "846931     0.90\n",
       "846932     3.30\n",
       "846933     0.60\n",
       "846934     0.80\n",
       "846935     2.60\n",
       "846936     1.54\n",
       "846937     2.30\n",
       "846938     1.40\n",
       "846939     0.70\n",
       "846940     1.60\n",
       "846941     9.80\n",
       "846942     2.23\n",
       "846943     1.76\n",
       "846944     4.50\n",
       "Name: trip_distance, Length: 846945, dtype: float64"
      ]
     },
     "execution_count": 34,
     "metadata": {},
     "output_type": "execute_result"
    }
   ],
   "source": [
    "datos.trip_distance"
   ]
  },
  {
   "cell_type": "code",
   "execution_count": 33,
   "metadata": {},
   "outputs": [
    {
     "data": {
      "text/plain": [
       "<matplotlib.axes._subplots.AxesSubplot at 0x7f60b3fae898>"
      ]
     },
     "execution_count": 33,
     "metadata": {},
     "output_type": "execute_result"
    },
    {
     "data": {
      "image/png": "[encoded data removed]",
      "text/plain": [
       "<Figure size 432x288 with 1 Axes>"
      ]
     },
     "metadata": {},
     "output_type": "display_data"
    }
   ],
   "source": [
    "datos.trip_distance.hist(bins=np.linspace(0,10,100))\n",
    "# Pandas también nos permite realizar gráficas"
   ]
  },
  {
   "cell_type": "code",
   "execution_count": null,
   "metadata": {},
   "outputs": [],
   "source": []
  }
 ],
 "metadata": {
  "kernelspec": {
   "display_name": "Python 3",
   "language": "python",
   "name": "python3"
  },
  "language_info": {
   "codemirror_mode": {
    "name": "ipython",
    "version": 3
   },
   "file_extension": ".py",
   "mimetype": "text/x-python",
   "name": "python",
   "nbconvert_exporter": "python",
   "pygments_lexer": "ipython3",
   "version": "3.5.2"
  }
 },
 "nbformat": 4,
 "nbformat_minor": 2
}
